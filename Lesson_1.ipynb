{
 "cells": [
  {
   "cell_type": "markdown",
   "id": "3a57fbf7",
   "metadata": {},
   "source": [
    "# Урок 1"
   ]
  },
  {
   "cell_type": "markdown",
   "id": "13c269e4",
   "metadata": {},
   "source": [
    "# Линейное пространство. Основные понятия. Часть 1"
   ]
  },
  {
   "cell_type": "markdown",
   "id": "f50e3e1f",
   "metadata": {},
   "source": [
    "__1.__ Исследуйте на линейную зависимость:\n",
    "\n",
    "$$f_{1}(x)=e^{x}, f_{2}(x)=1, f_{3}(x)=x+1, f_{4}(x)=x-e^{x}.$$"
   ]
  },
  {
   "cell_type": "markdown",
   "id": "8db006e5",
   "metadata": {},
   "source": [
    "__Решение__\n"
   ]
  },
  {
   "cell_type": "markdown",
   "id": "7af22181",
   "metadata": {},
   "source": [
    "\n",
    "Заметим, что $f_{4}(x)=f_{3}(x)-f_{2}(x)-f_{1}(x)=x+1-1-e^{x}=x-e^{x}$, то есть один из векторов — линейная комбинация трех остальных. Из этого следует, что векторы линейно зависимы."
   ]
  },
  {
   "cell_type": "markdown",
   "id": "39eb10e0",
   "metadata": {},
   "source": [
    "__2.__ Исследуйте на линейную зависимость:\n",
    "$$f_{1}(x)=2, f_{2}(x)=x, f_{3}(x)=x^{2}, f_{4}(x)=(x+1)^{2}$$"
   ]
  },
  {
   "cell_type": "markdown",
   "id": "60612004",
   "metadata": {},
   "source": [
    "Приравняем линейную комбинацию этих векторов к нулевому вектору:\n",
    "$$\\alpha_{1}f_{1}(x)+\\alpha_{2}f_{2}(x)+\\alpha_{3}f_{3}(x)+\\alpha_{4}f_{4}(x)=0.$$\n",
    "$$\\alpha_{1}2+\\alpha_{2}x+\\alpha_{3}x^{2}+\\alpha_{4}(x+1)^{2}=0.$$\n",
    "$$\\alpha_{1}2+\\alpha_{2}x+\\alpha_{3}x^{2}+\\alpha_{4}(x^{2}+1+2x)=0.$$"
   ]
  },
  {
   "cell_type": "markdown",
   "id": "b77e7870",
   "metadata": {},
   "source": [
    "Учитывая свойства линейных пространств, мы можем раскрыть скобки и преобразовать полученное уравнение к виду:\n",
    "$$\\alpha_{1}2+\\alpha_{2}x+\\alpha_{3}x^{2}+\\alpha_{4}x^{2}+\\alpha_{4}+\\alpha_{4}2x=0.$$\n",
    "$$2\\alpha_{1}+\\alpha_{4}+(\\alpha_{2}+2\\alpha_{4})x+(\\alpha_{3}+\\alpha_{4})x^{2}=0.$$"
   ]
  },
  {
   "cell_type": "markdown",
   "id": "5289f9f5",
   "metadata": {},
   "source": [
    "Тогда, если векторы линейно независимы, можно сделать вывод, что все коэффициенты должны равняться нулю. Получаем систему уравнений:\n",
    "$$\\begin{cases}\n",
    " 2\\alpha_{1}+\\alpha_{4}=0,\\\\\n",
    " \\alpha_{2}+2\\alpha_{4}=0,\\\\\n",
    " \\alpha_{3}+\\alpha_{4}=0,\n",
    "\\end{cases}$$\n",
    "$$\\begin{cases}\n",
    " 2\\alpha_{1}=-\\alpha_{4},\\\\\n",
    " \\alpha_{2}=-2\\alpha_{4},\\\\\n",
    " \\alpha_{3}=-\\alpha_{4},\n",
    "\\end{cases}$$\n",
    "где коэффициенты $\\alpha$ не равны 0, а выражаются друг через друга. Таким образом, векторы $f_{1}(x), f_{2}(x), f_{3}(x), f_{4}(x)$ линейно зависимы."
   ]
  },
  {
   "cell_type": "markdown",
   "id": "f0da333e",
   "metadata": {},
   "source": [
    "__3.__ Найдите координаты вектора $x = (2, 3, 5)\\in \\mathbb{R}^{3}$ в базисе $b_{1}=(0, 0, 10)$, $b_{2}=(2, 0, 0)$, $b_{3}=(0, 1, 0)$."
   ]
  },
  {
   "cell_type": "markdown",
   "id": "d0899f53",
   "metadata": {},
   "source": [
    "$$x=(2, 3, 5)=(2,0,0)+(0, 3, 0)+(0, 0, 5)=1\\cdot(2, 0, 0)+3\\cdot(0, 1, 0)+05\\cdot(0, 0, 10)=0,5b_{1}+b_{2}+3b_{3},$$\n",
    "\n",
    "то есть координаты вектора $x$ в базисе — $0,5$, $1$, $3$."
   ]
  },
  {
   "cell_type": "markdown",
   "id": "78532f69",
   "metadata": {},
   "source": [
    "__4.__ Найдите координаты вектора $3x^{2}-2x+2\\in\\mathbb{R}^{3}[x]$:\n",
    "\n",
    "а) в базисе $1$, $x$, $x^{2}$;\n",
    "\n",
    "б) в базисе $x^{2}$, $x-1$, $1$."
   ]
  },
  {
   "cell_type": "markdown",
   "id": "629780c9",
   "metadata": {},
   "source": [
    "а) $2$, $-2$, $3$;\n",
    "\n",
    "б) $3$, $-2$, $0$."
   ]
  },
  {
   "cell_type": "markdown",
   "id": "84927089",
   "metadata": {},
   "source": [
    "__5.__ Установите, считается ли линейным подпространством:\n",
    "\n",
    "а) совокупность всех векторов трёхмерного пространства, у которых по крайней мере одна из первых двух координат равна нулю;\n",
    "    \n",
    "б) все векторы, считающиеся линейными комбинациями данных векторов $\\{u_{1}, u_{2} \\ldots, u_{n}\\}$."
   ]
  },
  {
   "cell_type": "markdown",
   "id": "1a33fb48",
   "metadata": {},
   "source": [
    "a)  \n",
    "$$(0, a, b)+(0, c, d) = (0, a+c, b+d),$$ $$\\alpha\\cdot (0, a, b) = (0, \\alpha a, \\alpha b).$$\n",
    " \n",
    "или \n",
    "\n",
    "$$(a, 0, b)+(c, 0, d) = (a+c, 0, b+d),$$ $$\\alpha\\cdot (a, 0, b) = (\\alpha a, 0, \\alpha b).$$\n",
    "\n",
    "или \n",
    "\n",
    "$$(0, 0, a)+(0, 0, b) = (0, 0, a+b),$$ $$\\alpha\\cdot (0, 0, a) = (0, 0, \\alpha a).$$\n",
    "\n",
    "но \n",
    "\n",
    "$$(a, 0, b)+(0, c, d) = (a, c, b+d),$$ $$(a, 0, b)+(0, 0, d) = (a, 0, b+d),$$ \n",
    "\n",
    "То совокупность всех векторов трёхмерного пространства не считается линейным подпространством."
   ]
  },
  {
   "cell_type": "markdown",
   "id": "4df81bc7",
   "metadata": {},
   "source": [
    "б) $$a=\\alpha_{1}u_{1}, \\alpha_{2}u_{2} \\ldots, \\alpha_{n}u_{n},$$\n",
    "$$b=\\omega_{1}u_{1}, \\omega_{2}u_{2} \\ldots, \\omega_{n}u_{n}.$$\n",
    "\n",
    "$$(\\alpha_{1}u_{1}, \\alpha_{2}u_{2} \\ldots, \\alpha_{n}u_{n})+(\\omega_{1}u_{1}, \\omega_{2}u_{2} \\ldots, \\omega_{n}u_{n})=((\\alpha_{1}+\\omega_{1})u_{1}, (\\alpha_{2}+\\omega_{2})u_{2} \\ldots, (\\alpha_{n}+\\omega_{n})u_{n}),$$\n",
    "$$\\mu(\\alpha_{1}u_{1}, \\alpha_{2}u_{2} \\ldots, \\alpha_{n}u_{n}) = (\\mu\\alpha_{1}u_{1}, \\mu\\alpha_{2}u_{2} \\ldots, \\mu\\alpha_{n}u_{n}).$$"
   ]
  },
  {
   "cell_type": "markdown",
   "id": "2d70fc83",
   "metadata": {},
   "source": [
    "То совокупность всех векторов трёхмерного пространства считается линейным подпространством."
   ]
  },
  {
   "cell_type": "markdown",
   "id": "baebbfde",
   "metadata": {},
   "source": [
    "# Линейное пространство. Основные понятия. Часть 2"
   ]
  },
  {
   "cell_type": "markdown",
   "id": "035f05b5",
   "metadata": {},
   "source": [
    "__1.__ Найдите скалярное произведение векторов $x, y \\in \\mathbb{R}$:<br>\n",
    "а) $x=(0,-3, 6),~y=(-4, 7, 9);$<br>\n",
    "б) $x=(7, -4, 0, 1),~y=(-3, 1, 11, 2).$"
   ]
  },
  {
   "cell_type": "markdown",
   "id": "905b2e93",
   "metadata": {},
   "source": [
    "а) \n",
    "$$(x, y)=0+(-21)+54=33;$$\n",
    "б)\n",
    "$$(x, y)=(-21)+(-4)+0+2=-23.$$"
   ]
  },
  {
   "cell_type": "code",
   "execution_count": 14,
   "id": "6ce96b97",
   "metadata": {},
   "outputs": [
    {
     "name": "stdout",
     "output_type": "stream",
     "text": [
      "Скалярное произведение x и y:\n",
      "33\n",
      "Скалярное произведение x и y:\n",
      "-23\n"
     ]
    }
   ],
   "source": [
    "import numpy as np\n",
    "print(f'Скалярное произведение x и y:\\n{np.array([0,-3,6]) @ np.array([-4,7,9])}')\n",
    "print(f'Скалярное произведение x и y:\\n{np.array([7,-4,0,1]) @ np.array([-3,1,11,2])}')"
   ]
  },
  {
   "cell_type": "markdown",
   "id": "3592739a",
   "metadata": {},
   "source": [
    "__2.__ Найдите нормы векторов $(4, 2, 4)$ и $(12, 3, 4)$ и угол между ними."
   ]
  },
  {
   "cell_type": "markdown",
   "id": "809d1be1",
   "metadata": {},
   "source": [
    "$$\\left\\|x\\right\\|_{2} = \\sqrt{4^{2}+2^{2}+4^{2}}=\\sqrt{34};$$"
   ]
  },
  {
   "cell_type": "markdown",
   "id": "c889cfc7",
   "metadata": {},
   "source": [
    "$$\\left\\|y\\right\\|_{2} = \\sqrt{12^{2}+3^{2}+4^{2}}=13;$$"
   ]
  },
  {
   "cell_type": "markdown",
   "id": "0ab77493",
   "metadata": {},
   "source": [
    "$$(x, y)=48+6+16=70;$$"
   ]
  },
  {
   "cell_type": "markdown",
   "id": "98ef101a",
   "metadata": {},
   "source": [
    "$$cos\\varphi = \\frac{(x,y)}{\\left \\|x\\right \\|\\cdot\\left \\|y\\right \\|}= \\frac{70}{\\sqrt{34}\\cdot13}.$$"
   ]
  },
  {
   "cell_type": "markdown",
   "id": "384398da",
   "metadata": {},
   "source": [
    "__3.__ Определите, будет ли линейное пространство евклидовым, если за скалярное произведение принять:<br>\n",
    "а) произведение длин векторов;<br>\n",
    "б) утроенное обычное скалярное произведение векторов?<br>\n"
   ]
  },
  {
   "cell_type": "markdown",
   "id": "f3a68305",
   "metadata": {},
   "source": [
    "не понимаю"
   ]
  },
  {
   "cell_type": "markdown",
   "id": "e70a9bf6",
   "metadata": {},
   "source": [
    "__4.__ Выясните, какие из нижеперечисленных векторов образуют ортонормированный базис в линейном пространстве $\\mathbb{R}^{3}$:<br>\n",
    "а) $(1,0,0),(0,0,1);$ <br>\n",
    "б) $(1/\\sqrt{2},-1/\\sqrt{2},0),(1/\\sqrt{2},1/\\sqrt{2},0), (0,0,1);$<br>\n",
    "в) $(1/2, -1/2, 0), (0, 1/2, 1/2), (0,0,1);$<br>\n",
    "г) $(1,0,0),(0,1,0),(0,0,1)?$ "
   ]
  },
  {
   "cell_type": "markdown",
   "id": "1ec79f8a",
   "metadata": {},
   "source": [
    "а) нет: скалярное произведение равно 0 и длины векторов равны 1, но нет 1 вектора; <br>\n",
    "б) да: и скалярные произведения равны 0 и длины векторов равны 1; <br>\n",
    "в) нет: скалярные произведения не все равны 0 и длины векторов не все равны 1; <br>\n",
    "г) да: и скалярные произведения равны 0 и длины векторов равны 1.\n"
   ]
  }
 ],
 "metadata": {
  "kernelspec": {
   "display_name": "Python 3 (ipykernel)",
   "language": "python",
   "name": "python3"
  },
  "language_info": {
   "codemirror_mode": {
    "name": "ipython",
    "version": 3
   },
   "file_extension": ".py",
   "mimetype": "text/x-python",
   "name": "python",
   "nbconvert_exporter": "python",
   "pygments_lexer": "ipython3",
   "version": "3.10.4"
  }
 },
 "nbformat": 4,
 "nbformat_minor": 5
}
